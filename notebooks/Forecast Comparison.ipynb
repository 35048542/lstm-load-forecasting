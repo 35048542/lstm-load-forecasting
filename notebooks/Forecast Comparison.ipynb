{
 "cells": [
  {
   "cell_type": "markdown",
   "metadata": {},
   "source": [
    "# Compare Forecasts"
   ]
  },
  {
   "cell_type": "code",
   "execution_count": 2,
   "metadata": {},
   "outputs": [
    {
     "name": "stderr",
     "output_type": "stream",
     "text": [
      "Using TensorFlow backend.\n"
     ]
    },
    {
     "name": "stdout",
     "output_type": "stream",
     "text": [
      "Using matplotlib backend: TkAgg\n"
     ]
    }
   ],
   "source": [
    "import os\n",
    "import datetime\n",
    "import pandas as pd\n",
    "import numpy as np\n",
    "\n",
    "import matplotlib.pyplot as plt\n",
    "\n",
    "from keras.models import load_model\n",
    "from keras import backend as K\n",
    "\n",
    "import pytz\n",
    "from sklearn.metrics import mean_squared_error, mean_absolute_error\n",
    "from sklearn.preprocessing import StandardScaler\n",
    "from tabulate import tabulate\n",
    "\n",
    "from lstm_load_forecasting import data, lstm\n",
    "\n",
    "from ast import literal_eval\n",
    "\n",
    "%matplotlib"
   ]
  },
  {
   "cell_type": "markdown",
   "metadata": {},
   "source": [
    "# TBATS Benchmark"
   ]
  },
  {
   "cell_type": "code",
   "execution_count": 3,
   "metadata": {
    "collapsed": true
   },
   "outputs": [],
   "source": [
    "tbats_fc = pd.read_csv(os.path.join('Data', 'tbats_forecast_01022017-h5000.csv'))\n",
    "\n",
    "starting = datetime.datetime(2017,2,1,0,0,0,0, tzinfo=pytz.utc )\n",
    "forecasts = pd.DataFrame(data={\"tbats_forecast\": tbats_fc['tbats_fc'].values}, index=pd.date_range(starting, periods=5000, freq='60min'))"
   ]
  },
  {
   "cell_type": "markdown",
   "metadata": {},
   "source": [
    "# ARMA Forecast"
   ]
  },
  {
   "cell_type": "code",
   "execution_count": 5,
   "metadata": {},
   "outputs": [],
   "source": [
    "arma_fc = pd.read_csv(os.path.join('Data', 'arma_fc.csv'))\n",
    "starting = datetime.datetime(2017,2,1,0,0,0,0, tzinfo=pytz.utc)\n",
    "arma_forecasts = pd.DataFrame(data={\"arma_forecast\": arma_fc['x'].values}, index=pd.date_range(starting, periods=arma_fc.shape[0], freq='60min'))"
   ]
  },
  {
   "cell_type": "markdown",
   "metadata": {},
   "source": [
    "# Actual Load and ENTSOE Benchmark"
   ]
  },
  {
   "cell_type": "code",
   "execution_count": 6,
   "metadata": {
    "collapsed": true
   },
   "outputs": [],
   "source": [
    "#df = pd.read_csv(os.path.join('Data', 'fulldataset.csv'), sep=';', usecols=[0,1,2], parse_dates=[0], index_col = 0)\n",
    "path = os.path.join('Data', 'fulldataset.csv')\n",
    "entsoe = data.load_dataset(path=path, modules=['entsoe'])\n",
    "actual = data.load_dataset(path=path, modules=['actual'])\n",
    "\n",
    "forecasts = forecasts.join(entsoe)\n",
    "forecasts = forecasts.join(actual)\n",
    "forecasts = forecasts.join(arma_forecasts)"
   ]
  },
  {
   "cell_type": "markdown",
   "metadata": {},
   "source": [
    "# LSTM Models"
   ]
  },
  {
   "cell_type": "code",
   "execution_count": 7,
   "metadata": {
    "collapsed": true
   },
   "outputs": [],
   "source": [
    "# Best models based on test results. For comparison\n",
    "res_path = os.path.abspath('results/')\n",
    "model_dir = os.path.abspath('models/')\n",
    "date = '20170508'\n",
    "starting = datetime.datetime(2017,2,1,0,0,0,0, tzinfo=pytz.utc )"
   ]
  },
  {
   "cell_type": "markdown",
   "metadata": {},
   "source": [
    "### LSTM Model 6 (All available data)"
   ]
  },
  {
   "cell_type": "code",
   "execution_count": 8,
   "metadata": {
    "collapsed": true
   },
   "outputs": [],
   "source": [
    "df6 = data.load_dataset(path=path, modules=['all'])\n",
    "df6_scaled = df6.copy()\n",
    "df6_scaled = df6_scaled.dropna()\n",
    "\n",
    "# Get all float type columns\n",
    "floats = [key for key in dict(df6_scaled.dtypes) if dict(df6_scaled.dtypes)[key] in ['float64']]\n",
    "scaler = StandardScaler()\n",
    "scaled_columns = scaler.fit_transform(df6_scaled[floats])\n",
    "df6_scaled[floats] = scaled_columns\n",
    "\n",
    "df6_train = df6_scaled.loc[(df6_scaled.index < starting)].copy()\n",
    "#df6_train = df6_scaled.loc[(df6_scaled.index < starting) & (df6_scaled.index > starting - pd.DateOffset(months=15))].copy()\n",
    "df6_test = df6_scaled.loc[df6_scaled.index >= starting].copy()\n",
    "y_train = df6_train['actual'].copy()\n",
    "X_train = df6_train.drop('actual', 1).copy()\n",
    "y_test = df6_test['actual'].copy()\n",
    "X_test = df6_test.drop('actual', 1).copy()\n",
    "\n",
    "valid_results_6 = pd.read_csv(os.path.join(res_path, 'notebook_06/', str('model6_results_' + date + '.csv')), delimiter=';')\n",
    "test_results_6 = pd.read_csv(os.path.join(res_path, 'notebook_06/', str('model6_test_results' + date + '.csv')), delimiter=';')\n",
    "test_results_6 = test_results_6.sort_values('Mean absolute error', ascending=True)\n",
    "best_model_6 = test_results_6.loc[0]['Model name']\n",
    "\n",
    "config = valid_results_6.loc[valid_results_6['model_name'] == best_model_6]\n",
    "batch_size = int(config['batch_train'].values[0])\n",
    "size = int(y_test.shape[0] / batch_size)\n",
    "\n",
    "layers = literal_eval(config['config'].values[0])\n",
    "layers = layers['layers']\n"
   ]
  },
  {
   "cell_type": "code",
   "execution_count": 9,
   "metadata": {},
   "outputs": [
    {
     "name": "stdout",
     "output_type": "stream",
     "text": [
      "Warnining: Division \"sample_size/batch_size\" not a natural number.\n",
      "Dropped the last 1 of 18241 number of obs.\n",
      "Effective validation split now is: 0.200\n",
      "Train on 14592 samples, validate on 3648 samples\n",
      "Epoch 1/25\n",
      "14592/14592 [==============================] - 12s - loss: 0.7524 - mean_absolute_error: 0.6137 - val_loss: 0.5081 - val_mean_absolute_error: 0.5722\n",
      "Epoch 2/25\n",
      "14592/14592 [==============================] - 10s - loss: 0.5732 - mean_absolute_error: 0.5021 - val_loss: 0.2677 - val_mean_absolute_error: 0.4102\n",
      "Epoch 3/25\n",
      "14592/14592 [==============================] - 11s - loss: 0.4728 - mean_absolute_error: 0.4366 - val_loss: 0.2277 - val_mean_absolute_error: 0.3717\n",
      "Epoch 4/25\n",
      "14592/14592 [==============================] - 11s - loss: 0.4638 - mean_absolute_error: 0.4260 - val_loss: 0.2189 - val_mean_absolute_error: 0.3585\n",
      "Epoch 5/25\n",
      "14592/14592 [==============================] - 15s - loss: 0.4475 - mean_absolute_error: 0.4165 - val_loss: 0.2347 - val_mean_absolute_error: 0.3746\n",
      "Epoch 6/25\n",
      "14592/14592 [==============================] - 13s - loss: 0.4363 - mean_absolute_error: 0.4101 - val_loss: 0.1862 - val_mean_absolute_error: 0.3285\n",
      "Epoch 7/25\n",
      "14592/14592 [==============================] - 13s - loss: 0.4276 - mean_absolute_error: 0.4035 - val_loss: 0.1398 - val_mean_absolute_error: 0.2860\n",
      "Epoch 8/25\n",
      "14592/14592 [==============================] - 13s - loss: 0.4160 - mean_absolute_error: 0.3931 - val_loss: 0.1418 - val_mean_absolute_error: 0.2948\n",
      "Epoch 9/25\n",
      "14592/14592 [==============================] - 13s - loss: 0.4050 - mean_absolute_error: 0.3818 - val_loss: 0.1297 - val_mean_absolute_error: 0.2817\n",
      "Epoch 10/25\n",
      "14592/14592 [==============================] - 12s - loss: 0.3932 - mean_absolute_error: 0.3742 - val_loss: 0.1364 - val_mean_absolute_error: 0.2901\n",
      "Epoch 11/25\n",
      "14592/14592 [==============================] - 12s - loss: 0.3938 - mean_absolute_error: 0.3735 - val_loss: 0.1561 - val_mean_absolute_error: 0.3124\n",
      "Epoch 12/25\n",
      "14592/14592 [==============================] - 11s - loss: 0.3764 - mean_absolute_error: 0.3622 - val_loss: 0.2051 - val_mean_absolute_error: 0.3640\n",
      "Epoch 00011: early stopping\n"
     ]
    }
   ],
   "source": [
    "model6 = lstm.create_model(layers=layers, sample_size=X_train.shape[0], batch_size=config['batch_train'].values, timesteps=1, features=X_train.shape[1], loss='mse', optimizer='adam')\n",
    "history = lstm.train_model(model=model6, mode='fit', y=y_train, X=X_train, \n",
    "                           batch_size=batch_size, timesteps=1, epochs=25, \n",
    "                           rearrange=False, validation_split=0.2, verbose=1)"
   ]
  },
  {
   "cell_type": "code",
   "execution_count": 10,
   "metadata": {},
   "outputs": [
    {
     "name": "stdout",
     "output_type": "stream",
     "text": [
      "2432/2512 [============================>.] - ETA: 0s"
     ]
    }
   ],
   "source": [
    "scaled_predictions = lstm.get_predictions(model=model6, X=X_test[0:size*batch_size], batch_size=batch_size, timesteps=1, verbose=1)"
   ]
  },
  {
   "cell_type": "code",
   "execution_count": 11,
   "metadata": {
    "collapsed": true
   },
   "outputs": [],
   "source": [
    "mu = scaler.mean_[0]\n",
    "sigma = scaler.scale_[0]\n",
    "\n",
    "mod6_predictions = mu + sigma*scaled_predictions\n",
    "df_mod6 = pd.DataFrame(data={\"model6\": mod6_predictions.flatten()}, index=pd.date_range(starting, periods=mod6_predictions.shape[0], freq='60min'))\n",
    "if 'model6' in forecasts.columns:\n",
    "    forecasts = forecasts.drop('model6', 1)\n",
    "forecasts = forecasts.join(df_mod6)"
   ]
  },
  {
   "cell_type": "code",
   "execution_count": null,
   "metadata": {
    "collapsed": true
   },
   "outputs": [],
   "source": []
  },
  {
   "cell_type": "code",
   "execution_count": 12,
   "metadata": {
    "collapsed": true
   },
   "outputs": [],
   "source": [
    "K.clear_session()\n",
    "import tensorflow as tf\n",
    "tf.reset_default_graph()"
   ]
  },
  {
   "cell_type": "code",
   "execution_count": null,
   "metadata": {
    "collapsed": true
   },
   "outputs": [],
   "source": []
  },
  {
   "cell_type": "markdown",
   "metadata": {},
   "source": [
    "# LSTM Model 3 (Calendar only)"
   ]
  },
  {
   "cell_type": "code",
   "execution_count": 13,
   "metadata": {
    "collapsed": true
   },
   "outputs": [],
   "source": [
    "df3 = data.load_dataset(path=path, modules=['actual', 'calendar'])\n",
    "df3_scaled = df3.copy()\n",
    "df3_scaled = df3_scaled.dropna()\n",
    "\n",
    "# Get all float type columns\n",
    "floats = [key for key in dict(df3_scaled.dtypes) if dict(df3_scaled.dtypes)[key] in ['float64']]\n",
    "scaler = StandardScaler()\n",
    "scaled_columns = scaler.fit_transform(df3_scaled[floats])\n",
    "df3_scaled[floats] = scaled_columns\n",
    "\n",
    "df3_train = df3_scaled.loc[(df3_scaled.index < starting)].copy()\n",
    "#df3_train = df3_scaled.loc[(df3_scaled.index < starting) & (df3_scaled.index > starting - pd.DateOffset(months=15))].copy()\n",
    "df3_test = df3_scaled.loc[df3_scaled.index >= starting].copy()\n",
    "y_train = df3_train['actual'].copy()\n",
    "X_train = df3_train.drop('actual', 1).copy()\n",
    "y_test = df3_test['actual'].copy()\n",
    "X_test = df3_test.drop('actual', 1).copy()\n",
    "\n",
    "valid_results_3 = pd.read_csv(os.path.join(res_path, 'notebook_03/', str('model3_results_' + date + '.csv')), delimiter=';')\n",
    "test_results_3 = pd.read_csv(os.path.join(res_path, 'notebook_03/', str('model3_test_results' + date + '.csv')), delimiter=';')\n",
    "test_results_3 = test_results_3.sort_values('Mean absolute error', ascending=True)\n",
    "best_model_3 = test_results_3.loc[0]['Model name']\n",
    "\n",
    "config = valid_results_3.loc[valid_results_3['model_name'] == best_model_3]\n",
    "batch_size = int(config['batch_train'].values[0])\n",
    "size = int(y_test.shape[0] / batch_size)\n",
    "\n",
    "layers = literal_eval(config['config'].values[0])\n",
    "layers = layers['layers']"
   ]
  },
  {
   "cell_type": "code",
   "execution_count": 14,
   "metadata": {},
   "outputs": [
    {
     "name": "stdout",
     "output_type": "stream",
     "text": [
      "Warnining: Division \"sample_size/batch_size\" not a natural number.\n",
      "Dropped the last 1 of 18241 number of obs.\n",
      "Effective validation split now is: 0.200\n",
      "Train on 14592 samples, validate on 3648 samples\n",
      "Epoch 1/25\n",
      "14592/14592 [==============================] - 2s - loss: 1.0350 - mean_absolute_error: 0.7502 - val_loss: 0.4952 - val_mean_absolute_error: 0.5668\n",
      "Epoch 2/25\n",
      "14592/14592 [==============================] - 2s - loss: 0.7000 - mean_absolute_error: 0.5768 - val_loss: 0.2962 - val_mean_absolute_error: 0.4435\n",
      "Epoch 3/25\n",
      "14592/14592 [==============================] - 2s - loss: 0.5492 - mean_absolute_error: 0.4913 - val_loss: 0.2608 - val_mean_absolute_error: 0.4161\n",
      "Epoch 4/25\n",
      "14592/14592 [==============================] - 2s - loss: 0.5103 - mean_absolute_error: 0.4677 - val_loss: 0.2454 - val_mean_absolute_error: 0.4024\n",
      "Epoch 5/25\n",
      "14592/14592 [==============================] - 2s - loss: 0.4923 - mean_absolute_error: 0.4570 - val_loss: 0.2269 - val_mean_absolute_error: 0.3851\n",
      "Epoch 6/25\n",
      "14592/14592 [==============================] - 2s - loss: 0.4784 - mean_absolute_error: 0.4484 - val_loss: 0.2119 - val_mean_absolute_error: 0.3709\n",
      "Epoch 7/25\n",
      "14592/14592 [==============================] - 2s - loss: 0.4688 - mean_absolute_error: 0.4422 - val_loss: 0.2092 - val_mean_absolute_error: 0.3675\n",
      "Epoch 8/25\n",
      "14592/14592 [==============================] - 2s - loss: 0.4614 - mean_absolute_error: 0.4376 - val_loss: 0.2046 - val_mean_absolute_error: 0.3636\n",
      "Epoch 9/25\n",
      "14592/14592 [==============================] - 2s - loss: 0.4526 - mean_absolute_error: 0.4311 - val_loss: 0.1920 - val_mean_absolute_error: 0.3513\n",
      "Epoch 10/25\n",
      "14592/14592 [==============================] - 2s - loss: 0.4457 - mean_absolute_error: 0.4262 - val_loss: 0.1785 - val_mean_absolute_error: 0.3385\n",
      "Epoch 11/25\n",
      "14592/14592 [==============================] - 2s - loss: 0.4413 - mean_absolute_error: 0.4236 - val_loss: 0.1798 - val_mean_absolute_error: 0.3409\n",
      "Epoch 12/25\n",
      "14592/14592 [==============================] - 2s - loss: 0.4387 - mean_absolute_error: 0.4212 - val_loss: 0.1621 - val_mean_absolute_error: 0.3223\n",
      "Epoch 13/25\n",
      "14592/14592 [==============================] - 2s - loss: 0.4355 - mean_absolute_error: 0.4198 - val_loss: 0.2063 - val_mean_absolute_error: 0.3535\n",
      "Epoch 14/25\n",
      "14592/14592 [==============================] - 2s - loss: 0.4717 - mean_absolute_error: 0.4487 - val_loss: 0.1694 - val_mean_absolute_error: 0.3171\n",
      "Epoch 15/25\n",
      "14592/14592 [==============================] - 2s - loss: 0.4499 - mean_absolute_error: 0.4344 - val_loss: 0.1898 - val_mean_absolute_error: 0.3369\n",
      "Epoch 00014: early stopping\n"
     ]
    }
   ],
   "source": [
    "model3 = lstm.create_model(layers=layers, sample_size=X_train.shape[0], batch_size=config['batch_train'].values, timesteps=1, features=X_train.shape[1], loss='mse', optimizer='adam')\n",
    "history = lstm.train_model(model=model3, mode='fit', y=y_train, X=X_train, \n",
    "                           batch_size=batch_size, timesteps=1, epochs=25, \n",
    "                           rearrange=False, validation_split=0.2, verbose=1)"
   ]
  },
  {
   "cell_type": "code",
   "execution_count": 15,
   "metadata": {},
   "outputs": [
    {
     "name": "stdout",
     "output_type": "stream",
     "text": [
      "1536/2496 [=================>............] - ETA: 0s"
     ]
    }
   ],
   "source": [
    "scaled_predictions = lstm.get_predictions(model=model3, X=X_test[0:size*batch_size], batch_size=batch_size, timesteps=1, verbose=1)"
   ]
  },
  {
   "cell_type": "code",
   "execution_count": 16,
   "metadata": {
    "collapsed": true
   },
   "outputs": [],
   "source": [
    "mu = scaler.mean_[0]\n",
    "sigma = scaler.scale_[0]\n",
    "\n",
    "mod3_predictions = mu + sigma*scaled_predictions\n",
    "df_mod3 = pd.DataFrame(data={\"model3\": mod3_predictions.flatten()}, index=pd.date_range(starting, periods=mod3_predictions.shape[0], freq='60min'))\n",
    "if 'model3' in forecasts.columns:\n",
    "    forecasts = forecasts.drop('model3', 1)\n",
    "forecasts = forecasts.join(df_mod3)"
   ]
  },
  {
   "cell_type": "markdown",
   "metadata": {},
   "source": [
    "# Table with Results"
   ]
  },
  {
   "cell_type": "code",
   "execution_count": 17,
   "metadata": {},
   "outputs": [
    {
     "name": "stdout",
     "output_type": "stream",
     "text": [
      "\\begin{tabular}{lrrrrr}\n",
      "\\toprule\n",
      "      &   entsoe &    tbats &    arima &   m6-all &   m3-calendar \\\\\n",
      "\\midrule\n",
      " MSE  & 430068.9 & 999093.4 & 399907.0 & 172226.9 &      211432.5 \\\\\n",
      " MAE  &    521.2 &    844.5 &    496.6 &    329.3 &         363.9 \\\\\n",
      " MAPE &      7.7 &     13.0 &      7.7 &      5.0 &           5.4 \\\\\n",
      "\\bottomrule\n",
      "\\end{tabular}\n"
     ]
    }
   ],
   "source": [
    "def mean_absolute_percentage_error(y_true, y_pred): \n",
    "    return np.mean(np.abs((y_true - y_pred) / y_true)) * 100\n",
    "\n",
    "forecasts = forecasts.dropna()\n",
    "\n",
    "results = {}\n",
    "results[''] = ['MSE', 'MAE', 'MAPE']\n",
    "results['entsoe'] = [mean_squared_error(forecasts['actual'], forecasts['entsoe']), \n",
    "                     mean_absolute_error(forecasts['actual'], forecasts['entsoe']),\n",
    "                     mean_absolute_percentage_error(forecasts['actual'], forecasts['entsoe'])\n",
    "                    ]\n",
    "results['tbats'] = [mean_squared_error(forecasts['actual'], forecasts['tbats_forecast']), \n",
    "                    mean_absolute_error(forecasts['actual'], forecasts['tbats_forecast']),\n",
    "                    mean_absolute_percentage_error(forecasts['actual'], forecasts['tbats_forecast'])\n",
    "                   ]\n",
    "results['arima'] = [mean_squared_error(forecasts['actual'], forecasts['arma_forecast']), \n",
    "                    mean_absolute_error(forecasts['actual'], forecasts['arma_forecast']),\n",
    "                    mean_absolute_percentage_error(forecasts['actual'], forecasts['arma_forecast'])\n",
    "                   ]\n",
    "results['m6-all'] = [mean_squared_error(forecasts['actual'], forecasts['model6']), \n",
    "                     mean_absolute_error(forecasts['actual'], forecasts['model6']),\n",
    "                     mean_absolute_percentage_error(forecasts['actual'], forecasts['model6'])\n",
    "                    ]\n",
    "results['m3-calendar'] = [mean_squared_error(forecasts['actual'], forecasts['model3']), \n",
    "                          mean_absolute_error(forecasts['actual'], forecasts['model3']),\n",
    "                          mean_absolute_percentage_error(forecasts['actual'], forecasts['model3'])\n",
    "                         ]\n",
    "\n",
    "print(tabulate(results, headers='keys', numalign=\"right\", tablefmt='latex_booktabs', floatfmt=\".1f\"))"
   ]
  },
  {
   "cell_type": "code",
   "execution_count": 19,
   "metadata": {},
   "outputs": [
    {
     "data": {
      "text/plain": [
       "<function matplotlib.pyplot.show>"
      ]
     },
     "execution_count": 19,
     "metadata": {},
     "output_type": "execute_result"
    }
   ],
   "source": [
    "plt.figure()\n",
    "#plt.plot(forecasts.index, forecasts['entsoe'], label='ENTSOE Forecast')\n",
    "plt.plot(forecasts.index, forecasts['actual'], label='Actual Load')\n",
    "#plt.plot(forecasts.index, forecasts['tbats_forecast'], label='TBATS Forecast')\n",
    "plt.plot(forecasts.index, forecasts['arma_forecast'], label='ARIMA Forecast')\n",
    "plt.plot(forecasts.index, forecasts['model6'], label='Model 6 (All)')\n",
    "plt.plot(forecasts.index, forecasts['model3'], label='Model 3 (Calendar)')\n",
    "plt.title('Forecast Comparison: Test Data')\n",
    "plt.ylabel('Electricity load (in MW)')\n",
    "plt.xlabel('Date')\n",
    "plt.legend(loc='upper left')\n",
    "plt.show"
   ]
  },
  {
   "cell_type": "code",
   "execution_count": null,
   "metadata": {
    "collapsed": true
   },
   "outputs": [],
   "source": []
  }
 ],
 "metadata": {
  "kernelspec": {
   "display_name": "Python 3",
   "language": "python",
   "name": "python3"
  },
  "language_info": {
   "codemirror_mode": {
    "name": "ipython",
    "version": 3
   },
   "file_extension": ".py",
   "mimetype": "text/x-python",
   "name": "python",
   "nbconvert_exporter": "python",
   "pygments_lexer": "ipython3",
   "version": "3.6.1"
  }
 },
 "nbformat": 4,
 "nbformat_minor": 2
}
