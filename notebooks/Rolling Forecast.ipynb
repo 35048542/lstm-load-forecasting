{
 "cells": [
  {
   "cell_type": "markdown",
   "metadata": {
    "collapsed": true
   },
   "source": [
    "# Rolling Forecast:"
   ]
  },
  {
   "cell_type": "code",
   "execution_count": null,
   "metadata": {},
   "outputs": [],
   "source": [
    "import os\n",
    "import datetime\n",
    "import pandas as pd\n",
    "import numpy as np\n",
    "\n",
    "import matplotlib.pyplot as plt\n",
    "\n",
    "from keras.models import load_model\n",
    "from keras import backend as K\n",
    "\n",
    "import pytz\n",
    "from sklearn.metrics import mean_squared_error, mean_absolute_error\n",
    "from sklearn.preprocessing import StandardScaler\n",
    "from tabulate import tabulate\n",
    "\n",
    "from lstm_load_forecasting import data, lstm\n",
    "\n",
    "from ast import literal_eval\n",
    "\n",
    "from dateutil.tz import tzutc\n",
    "\n",
    "%matplotlib"
   ]
  },
  {
   "cell_type": "code",
   "execution_count": 2,
   "metadata": {
    "collapsed": true
   },
   "outputs": [],
   "source": [
    "timezone = pytz.timezone('Europe/Zurich')\n",
    "starting = timezone.localize(datetime.datetime(2017,2,1,0,0,0,0))\n",
    "path = os.path.join('Data', 'fulldataset.csv')\n",
    "res_path = os.path.abspath('results/')\n",
    "model_dir = os.path.abspath('models/')\n",
    "date = '20170508'"
   ]
  },
  {
   "cell_type": "markdown",
   "metadata": {},
   "source": [
    "# Model 3:"
   ]
  },
  {
   "cell_type": "code",
   "execution_count": 3,
   "metadata": {
    "collapsed": true
   },
   "outputs": [],
   "source": [
    "df3 = data.load_dataset(path=path, modules=['actual', 'calendar'])\n",
    "df3_scaled = df3.copy()\n",
    "df3_scaled = df3_scaled.dropna()\n",
    "\n",
    "# Get all float type columns\n",
    "floats = [key for key in dict(df3_scaled.dtypes) if dict(df3_scaled.dtypes)[key] in ['float64']]\n",
    "scaler = StandardScaler()\n",
    "scaled_columns = scaler.fit_transform(df3_scaled[floats])\n",
    "df3_scaled[floats] = scaled_columns\n",
    "\n",
    "df3_train = df3_scaled.loc[(df3_scaled.index < starting )].copy()\n",
    "#df3_train = df3_scaled.loc[(df3_scaled.index < starting) & (df3_scaled.index > starting - pd.DateOffset(months=15))].copy()\n",
    "df3_test = df3_scaled.loc[df3_scaled.index >= starting].copy()\n",
    "y_train = df3_train['actual'].copy()\n",
    "X_train = df3_train.drop('actual', 1).copy()\n",
    "y_test = df3_test['actual'].copy()\n",
    "X_test = df3_test.drop('actual', 1).copy()\n",
    "\n",
    "valid_results_3 = pd.read_csv(os.path.join(res_path, 'notebook_03/', str('model3_results_' + date + '.csv')), delimiter=';')\n",
    "test_results_3 = pd.read_csv(os.path.join(res_path, 'notebook_03/', str('model3_test_results' + date + '.csv')), delimiter=';')\n",
    "test_results_3 = test_results_3.sort_values('Mean absolute error', ascending=True)\n",
    "best_model_3 = test_results_3.loc[0]['Model name']\n",
    "\n",
    "config = valid_results_3.loc[valid_results_3['model_name'] == best_model_3]\n",
    "batch_size = int(config['batch_train'].values[0])\n",
    "size = int(y_test.shape[0] / batch_size)\n",
    "\n",
    "layers = literal_eval(config['config'].values[0])\n",
    "layers = layers['layers']"
   ]
  },
  {
   "cell_type": "markdown",
   "metadata": {},
   "source": [
    "### First training of network"
   ]
  },
  {
   "cell_type": "code",
   "execution_count": 4,
   "metadata": {},
   "outputs": [
    {
     "name": "stdout",
     "output_type": "stream",
     "text": [
      "Train on 14592 samples, validate on 3648 samples\n",
      "Epoch 1/25\n",
      "14592/14592 [==============================] - 8s - loss: 0.6626 - mean_absolute_error: 0.5513 - val_loss: 0.3794 - val_mean_absolute_error: 0.4876\n",
      "Epoch 2/25\n",
      "14592/14592 [==============================] - 8s - loss: 0.4613 - mean_absolute_error: 0.4324 - val_loss: 0.3131 - val_mean_absolute_error: 0.4640\n",
      "Epoch 3/25\n",
      "14592/14592 [==============================] - 8s - loss: 0.4353 - mean_absolute_error: 0.4127 - val_loss: 0.3139 - val_mean_absolute_error: 0.4638\n",
      "Epoch 4/25\n",
      "14592/14592 [==============================] - 8s - loss: 0.4217 - mean_absolute_error: 0.4018 - val_loss: 0.3214 - val_mean_absolute_error: 0.4630\n",
      "Epoch 5/25\n",
      "14592/14592 [==============================] - 8s - loss: 0.4124 - mean_absolute_error: 0.3947 - val_loss: 0.3197 - val_mean_absolute_error: 0.4595\n",
      "Epoch 00004: early stopping\n"
     ]
    }
   ],
   "source": [
    "#batch_size = config['batch_train'].values \n",
    "batch_size = 8\n",
    "model3 = lstm.create_model(layers=layers, sample_size=X_train.shape[0], batch_size=batch_size, timesteps=1, \n",
    "                           features=X_train.shape[1], loss='mse', optimizer='adam')\n",
    "history = lstm.train_model(model=model3, mode='fit', y=y_train, X=X_train, \n",
    "                           batch_size=batch_size, timesteps=1, epochs=25, \n",
    "                           rearrange=False, validation_split=0.2, verbose=1)"
   ]
  },
  {
   "cell_type": "markdown",
   "metadata": {},
   "source": [
    "### Loop through windows "
   ]
  },
  {
   "cell_type": "code",
   "execution_count": 5,
   "metadata": {},
   "outputs": [
    {
     "name": "stdout",
     "output_type": "stream",
     "text": [
      " 8/48 [====>.........................] - ETA: 0sWarnining: Division \"sample_size/batch_size\" not a natural number.\n",
      "Dropped the last 7 of 47 number of obs.\n",
      " 8/40 [=====>........................] - ETA: 0sWarnining: Division \"sample_size/batch_size\" not a natural number.\n",
      "Dropped the last 7 of 47 number of obs.\n",
      " 8/24 [=========>....................] - ETA: 0s"
     ]
    }
   ],
   "source": [
    "starting_loc = starting\n",
    "starting_utc = starting.astimezone(pytz.utc)\n",
    "ending_utc = df3_test.tail(1).index[0]\n",
    "ending_loc = ending_utc.tz_convert('Europe/Zurich')\n",
    "day_changes = pd.date_range(start=starting_loc, end=ending_loc, freq='24h', tz=\"Europe/Zurich\")\n",
    "\n",
    "predictions = pd.DataFrame(index=pd.date_range(start=starting_loc, end=ending_loc, normalize=True, freq='60min', tz='Europe/Zurich'))\n",
    "predictions.index = predictions.index.tz_convert('utc')\n",
    "\n",
    "for idx, hour in enumerate(day_changes):\n",
    "    if idx == 0:\n",
    "        pass\n",
    "    else:\n",
    "        # Select the actual values from the previous day and retrain the model with that new data\n",
    "        dh = df3_test.loc[(df3_test.index >= hour - pd.DateOffset(days=1)) & (df3_test.index < hour)]\n",
    "        y_train = dh['actual']\n",
    "        X_train = dh.drop('actual', 1)\n",
    "        history = lstm.train_model(model=model3, mode='fit', y=y_train, X=X_train, \n",
    "                                   batch_size=batch_size, timesteps=1, epochs=13, rearrange=False, validation_split=0,\n",
    "                                   verbose=0, early_stopping=False)\n",
    "    # Select the input data for the next 2 days and create multistep forecast\n",
    "    df = df3_test.loc[(df3_test.index >= hour) & (df3_test.index < hour + pd.DateOffset(days=2))]\n",
    "    df = df.drop('actual', 1)\n",
    "    X_predict = df\n",
    "    scaled_predictions = lstm.get_predictions(model=model3, X=X_predict, batch_size=batch_size, timesteps=1, verbose=1)\n",
    "    hour_utc = hour.tz_convert('utc')\n",
    "    # Combine and store results\n",
    "    window = pd.date_range(start=hour_utc, periods=len(scaled_predictions), freq='60min', tz='UTC')\n",
    "    result = pd.DataFrame(data={\"model3\": scaled_predictions.flatten()}, index=window)\n",
    "    predictions = predictions.combine_first(result)\n",
    "\n",
    "mu = scaler.mean_[0]\n",
    "sigma = scaler.scale_[0]\n",
    "model3_predictions = mu + sigma*predictions"
   ]
  },
  {
   "cell_type": "markdown",
   "metadata": {},
   "source": [
    "# Model 6"
   ]
  },
  {
   "cell_type": "code",
   "execution_count": 6,
   "metadata": {
    "collapsed": true
   },
   "outputs": [],
   "source": [
    "df6 = data.load_dataset(path=path, modules=['all'])\n",
    "df6_scaled = df6.copy()\n",
    "df6_scaled = df6_scaled.dropna()\n",
    "\n",
    "# Get all float type columns\n",
    "floats = [key for key in dict(df6_scaled.dtypes) if dict(df6_scaled.dtypes)[key] in ['float64']]\n",
    "scaler = StandardScaler()\n",
    "scaled_columns = scaler.fit_transform(df6_scaled[floats])\n",
    "df6_scaled[floats] = scaled_columns\n",
    "\n",
    "df6_train = df6_scaled.loc[(df6_scaled.index < starting )].copy()\n",
    "#df6_train = df6_scaled.loc[(df6_scaled.index < starting) & (df6_scaled.index > starting - pd.DateOffset(months=15))].copy()\n",
    "df6_test = df6_scaled.loc[df6_scaled.index >= starting].copy()\n",
    "y_train = df6_train['actual'].copy()\n",
    "X_train = df6_train.drop('actual', 1).copy()\n",
    "y_test = df6_test['actual'].copy()\n",
    "X_test = df6_test.drop('actual', 1).copy()\n",
    "\n",
    "valid_results_6 = pd.read_csv(os.path.join(res_path, 'notebook_06/', str('model6_results_' + date + '.csv')), delimiter=';')\n",
    "test_results_6 = pd.read_csv(os.path.join(res_path, 'notebook_06/', str('model6_test_results' + date + '.csv')), delimiter=';')\n",
    "test_results_6 = test_results_6.sort_values('Mean absolute error', ascending=True)\n",
    "best_model_6 = test_results_6.loc[0]['Model name']\n",
    "\n",
    "config = valid_results_6.loc[valid_results_6['model_name'] == best_model_6]\n",
    "batch_size = int(config['batch_train'].values[0])\n",
    "size = int(y_test.shape[0] / batch_size)\n",
    "\n",
    "layers = literal_eval(config['config'].values[0])\n",
    "layers = layers['layers']"
   ]
  },
  {
   "cell_type": "code",
   "execution_count": 7,
   "metadata": {},
   "outputs": [
    {
     "name": "stdout",
     "output_type": "stream",
     "text": [
      "Train on 14592 samples, validate on 3648 samples\n",
      "Epoch 1/25\n",
      "14592/14592 [==============================] - 22s - loss: 0.6832 - mean_absolute_error: 0.5695 - val_loss: 0.3487 - val_mean_absolute_error: 0.4661\n",
      "Epoch 2/25\n",
      "14592/14592 [==============================] - 21s - loss: 0.4484 - mean_absolute_error: 0.4183 - val_loss: 0.3439 - val_mean_absolute_error: 0.4239\n",
      "Epoch 3/25\n",
      "14592/14592 [==============================] - 22s - loss: 0.4206 - mean_absolute_error: 0.3994 - val_loss: 0.2205 - val_mean_absolute_error: 0.3639\n",
      "Epoch 4/25\n",
      "14592/14592 [==============================] - 22s - loss: 0.4065 - mean_absolute_error: 0.3884 - val_loss: 0.2317 - val_mean_absolute_error: 0.3755\n",
      "Epoch 5/25\n",
      "14592/14592 [==============================] - 22s - loss: 0.3991 - mean_absolute_error: 0.3799 - val_loss: 0.2402 - val_mean_absolute_error: 0.3834\n",
      "Epoch 6/25\n",
      "14592/14592 [==============================] - 20s - loss: 0.3893 - mean_absolute_error: 0.3706 - val_loss: 0.1915 - val_mean_absolute_error: 0.3402\n",
      "Epoch 7/25\n",
      "14592/14592 [==============================] - 20s - loss: 0.3858 - mean_absolute_error: 0.3670 - val_loss: 0.2012 - val_mean_absolute_error: 0.3481\n",
      "Epoch 8/25\n",
      "14592/14592 [==============================] - 21s - loss: 0.3804 - mean_absolute_error: 0.3636 - val_loss: 0.1638 - val_mean_absolute_error: 0.3170\n",
      "Epoch 9/25\n",
      "14592/14592 [==============================] - 21s - loss: 0.3755 - mean_absolute_error: 0.3586 - val_loss: 0.1452 - val_mean_absolute_error: 0.3008\n",
      "Epoch 10/25\n",
      "14592/14592 [==============================] - 22s - loss: 0.3657 - mean_absolute_error: 0.3505 - val_loss: 0.1404 - val_mean_absolute_error: 0.2967\n",
      "Epoch 11/25\n",
      "14592/14592 [==============================] - 21s - loss: 0.3619 - mean_absolute_error: 0.3463 - val_loss: 0.1469 - val_mean_absolute_error: 0.3044\n",
      "Epoch 12/25\n",
      "14592/14592 [==============================] - 21s - loss: 0.3581 - mean_absolute_error: 0.3434 - val_loss: 0.1517 - val_mean_absolute_error: 0.3122\n",
      "Epoch 00011: early stopping\n"
     ]
    }
   ],
   "source": [
    "batch_size = 8\n",
    "model6 = lstm.create_model(layers=layers, sample_size=X_train.shape[0], batch_size=batch_size, timesteps=1, \n",
    "                           features=X_train.shape[1], loss='mse', optimizer='adam')\n",
    "history = lstm.train_model(model=model6, mode='fit', y=y_train, X=X_train, \n",
    "                           batch_size=batch_size, timesteps=1, epochs=25, \n",
    "                           rearrange=False, validation_split=0.2, verbose=1)"
   ]
  },
  {
   "cell_type": "code",
   "execution_count": 8,
   "metadata": {},
   "outputs": [
    {
     "name": "stdout",
     "output_type": "stream",
     "text": [
      " 8/48 [====>.........................] - ETA: 0sWarnining: Division \"sample_size/batch_size\" not a natural number.\n",
      "Dropped the last 7 of 47 number of obs.\n",
      " 8/40 [=====>........................] - ETA: 0sWarnining: Division \"sample_size/batch_size\" not a natural number.\n",
      "Dropped the last 7 of 47 number of obs.\n",
      " 8/24 [=========>....................] - ETA: 0s"
     ]
    }
   ],
   "source": [
    "starting_loc = starting\n",
    "starting_utc = starting.astimezone(pytz.utc)\n",
    "ending_utc = df6_test.tail(1).index[0]\n",
    "ending_loc = ending_utc.tz_convert('Europe/Zurich')\n",
    "day_changes = pd.date_range(start=starting_loc, end=ending_loc, freq='24h', tz=\"Europe/Zurich\")\n",
    "\n",
    "predictions = pd.DataFrame(index=pd.date_range(start=starting_loc, end=ending_loc, normalize=True, freq='60min', tz='Europe/Zurich'))\n",
    "predictions.index = predictions.index.tz_convert('utc')\n",
    "\n",
    "for idx, hour in enumerate(day_changes):\n",
    "    if idx == 0:\n",
    "        pass\n",
    "    else:\n",
    "        dh = df6_test.loc[(df6_test.index >= hour - pd.DateOffset(days=1)) & (df6_test.index < hour)]\n",
    "        y_train = dh['actual']\n",
    "        X_train = dh.drop('actual', 1)\n",
    "        history = lstm.train_model(model=model6, mode='fit', y=y_train, X=X_train, \n",
    "                                   batch_size=batch_size, timesteps=1, epochs=13, rearrange=False, validation_split=0,\n",
    "                                   verbose=0, early_stopping=False)\n",
    "    \n",
    "    df = df6_test.loc[(df6_test.index >= hour) & (df6_test.index < hour + pd.DateOffset(days=2))]\n",
    "    df = df.drop('actual', 1)\n",
    "    X_predict = df\n",
    "    scaled_predictions = lstm.get_predictions(model=model6, X=X_predict, batch_size=batch_size, timesteps=1, verbose=1)\n",
    "    hour_utc = hour.tz_convert('utc')\n",
    "    window = pd.date_range(start=hour_utc, periods=len(scaled_predictions), freq='60min', tz='UTC')\n",
    "    result = pd.DataFrame(data={\"model6\": scaled_predictions.flatten()}, index=window)\n",
    "    predictions = predictions.combine_first(result)\n",
    "\n",
    "mu = scaler.mean_[0]\n",
    "sigma = scaler.scale_[0]\n",
    "model6_predictions = mu + sigma*predictions\n",
    "\n"
   ]
  },
  {
   "cell_type": "markdown",
   "metadata": {},
   "source": [
    "# Rolling ARMA forecast"
   ]
  },
  {
   "cell_type": "code",
   "execution_count": 9,
   "metadata": {},
   "outputs": [],
   "source": [
    "timezone = pytz.timezone('Europe/Zurich')\n",
    "starting = timezone.localize(datetime.datetime(2017,2,1,0,0,0,0))\n",
    "arma_fc = pd.read_csv(os.path.join('Data', 'arma_rolling_fc.csv'))\n",
    "arma_forecasts = pd.DataFrame(data={\"arma_forecast\": arma_fc['x'].values}, index=pd.date_range(starting, periods=arma_fc.shape[0], freq='60min'))"
   ]
  },
  {
   "cell_type": "markdown",
   "metadata": {},
   "source": [
    "# Results"
   ]
  },
  {
   "cell_type": "code",
   "execution_count": 13,
   "metadata": {},
   "outputs": [
    {
     "name": "stdout",
     "output_type": "stream",
     "text": [
      "\\begin{tabular}{lrrrr}\n",
      "\\hline\n",
      "      &   entsoe &    arima &   m6-all &   m3-calendar \\\\\n",
      "\\hline\n",
      " MSE  & 426230.2 & 217798.2 & 127505.3 &      151625.5 \\\\\n",
      " MAE  &    516.9 &    373.6 &    273.7 &         302.7 \\\\\n",
      " MAPE &      7.7 &      5.5 &      4.1 &           4.5 \\\\\n",
      "\\hline\n",
      "\\end{tabular}\n"
     ]
    }
   ],
   "source": [
    "def mean_absolute_percentage_error(y_true, y_pred): \n",
    "    return np.mean(np.abs((y_true - y_pred) / y_true)) * 100\n",
    "dfc = data.load_dataset(path=path, modules=['actual', 'entsoe'])\n",
    "forecasts = model3_predictions\n",
    "forecasts = forecasts.join(model6_predictions)\n",
    "forecasts = forecasts.join(dfc)\n",
    "forecasts = forecasts.join(arma_forecasts)\n",
    "forecasts = forecasts.dropna()\n",
    "results = {}\n",
    "results[''] = ['MSE', 'MAE', 'MAPE']\n",
    "results['entsoe'] = [mean_squared_error(forecasts['actual'], forecasts['entsoe']), \n",
    "                     mean_absolute_error(forecasts['actual'], forecasts['entsoe']),\n",
    "                     mean_absolute_percentage_error(forecasts['actual'], forecasts['entsoe'])\n",
    "                    ]\n",
    "results['arima'] = [mean_squared_error(forecasts['actual'], forecasts['arma_forecast']), \n",
    "                          mean_absolute_error(forecasts['actual'], forecasts['arma_forecast']),\n",
    "                          mean_absolute_percentage_error(forecasts['actual'], forecasts['arma_forecast'])\n",
    "                         ]\n",
    "results['m6-all'] = [mean_squared_error(forecasts['actual'], forecasts['model6']), \n",
    "                     mean_absolute_error(forecasts['actual'], forecasts['model6']),\n",
    "                     mean_absolute_percentage_error(forecasts['actual'], forecasts['model6'])\n",
    "                    ]\n",
    "results['m3-calendar'] = [mean_squared_error(forecasts['actual'], forecasts['model3']), \n",
    "                          mean_absolute_error(forecasts['actual'], forecasts['model3']),\n",
    "                          mean_absolute_percentage_error(forecasts['actual'], forecasts['model3'])\n",
    "                         ]\n",
    "print(tabulate(results, headers='keys', numalign=\"right\", tablefmt='latex', floatfmt=\".1f\"))"
   ]
  },
  {
   "cell_type": "code",
   "execution_count": 11,
   "metadata": {},
   "outputs": [
    {
     "data": {
      "text/plain": [
       "<function matplotlib.pyplot.show>"
      ]
     },
     "execution_count": 11,
     "metadata": {},
     "output_type": "execute_result"
    }
   ],
   "source": [
    "plt.figure()\n",
    "plt.plot(forecasts.index, forecasts['entsoe'], label='ENTSOE Forecast')\n",
    "plt.plot(forecasts.index, forecasts['actual'], label='Actual Load')\n",
    "plt.plot(forecasts.index, forecasts['model6'], label='Model 6 (All)')\n",
    "plt.plot(forecasts.index, forecasts['model3'], label='Model 3 (Calendar)')\n",
    "plt.plot(forecasts.index, forecasts['arma_forecast'], label='ARIMA (0,1,5)')\n",
    "plt.title('Forecast Comparison: Rolling Forecast')\n",
    "plt.ylabel('Electricity load (in MW)')\n",
    "plt.xlabel('Date')\n",
    "plt.legend(loc='upper left')\n",
    "plt.show"
   ]
  },
  {
   "cell_type": "code",
   "execution_count": null,
   "metadata": {
    "collapsed": true
   },
   "outputs": [],
   "source": [
    "K.clear_session()\n",
    "import tensorflow as tf\n",
    "tf.reset_default_graph()"
   ]
  },
  {
   "cell_type": "code",
   "execution_count": null,
   "metadata": {
    "collapsed": true
   },
   "outputs": [],
   "source": []
  }
 ],
 "metadata": {
  "kernelspec": {
   "display_name": "Python 3",
   "language": "python",
   "name": "python3"
  },
  "language_info": {
   "codemirror_mode": {
    "name": "ipython",
    "version": 3
   },
   "file_extension": ".py",
   "mimetype": "text/x-python",
   "name": "python",
   "nbconvert_exporter": "python",
   "pygments_lexer": "ipython3",
   "version": "3.6.1"
  }
 },
 "nbformat": 4,
 "nbformat_minor": 2
}
